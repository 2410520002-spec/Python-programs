{
  "nbformat": 4,
  "nbformat_minor": 0,
  "metadata": {
    "colab": {
      "provenance": []
    },
    "kernelspec": {
      "name": "python3",
      "display_name": "Python 3"
    },
    "language_info": {
      "name": "python"
    }
  },
  "cells": [
    {
      "cell_type": "code",
      "source": [
        "# Parent class\n",
        "class Animal:\n",
        "    def __init__(self, name):\n",
        "        self.name = name\n",
        "\n",
        "    def speak(self):\n",
        "        print(f\"{self.name} makes a sound.\")\n",
        "\n",
        "# Child class (inherits from Animal)\n",
        "class Dog(Animal):\n",
        "    def speak(self):\n",
        "        print(f\"{self.name} barks.\")\n",
        "\n",
        "# Another child class\n",
        "class Cat(Animal):\n",
        "    def speak(self):\n",
        "        print(f\"{self.name} meows.\")\n",
        "\n",
        "# Example usage\n",
        "if __name__ == \"__main__\":\n",
        "    # Create objects\n",
        "    animal = Animal(\"Generic Animal\")\n",
        "    dog = Dog(\"Buddy\")\n",
        "    cat = Cat(\"Whiskers\")\n",
        "\n",
        "    # Call methods\n",
        "    animal.speak()   # From parent\n",
        "    dog.speak()      # Overridden in Dog\n",
        "    cat.speak()      # Overridden in Cat\n"
      ],
      "metadata": {
        "id": "ZwKWXGHG-omJ"
      },
      "execution_count": null,
      "outputs": []
    }
  ]
}