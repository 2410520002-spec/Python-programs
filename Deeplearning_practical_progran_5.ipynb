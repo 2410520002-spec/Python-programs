{
  "nbformat": 4,
  "nbformat_minor": 0,
  "metadata": {
    "colab": {
      "provenance": []
    },
    "kernelspec": {
      "name": "python3",
      "display_name": "Python 3"
    },
    "language_info": {
      "name": "python"
    }
  },
  "cells": [
    {
      "cell_type": "code",
      "source": [
        "import statsmodels.api as sm\n",
        "import pandas as pd\n",
        "\n",
        "def regression_anova(x, y):\n",
        "    \"\"\"\n",
        "    Perform ANOVA and F-test for regression.\n",
        "\n",
        "    Parameters:\n",
        "        x (array-like): Independent variable(s). Can be list, numpy array, or pandas DataFrame.\n",
        "        y (array-like): Dependent variable. Can be list, numpy array, or pandas Series.\n",
        "\n",
        "    Returns:\n",
        "        ANOVA table (pandas DataFrame)\n",
        "    \"\"\"\n",
        "    # Convert x to DataFrame (to handle single/multiple predictors)\n",
        "    if not isinstance(x, pd.DataFrame):\n",
        "        x = pd.DataFrame(x)\n",
        "\n",
        "    # Add constant (intercept)\n",
        "    X = sm.add_const_\n"
      ],
      "metadata": {
        "id": "frMMNhDU9aYW"
      },
      "execution_count": 10,
      "outputs": []
    }
  ]
}